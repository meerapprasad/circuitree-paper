{
 "cells": [
  {
   "cell_type": "markdown",
   "id": "3ece71ab-43ff-4145-82a5-5c97842ce39e",
   "metadata": {},
   "source": [
    "# Test MCTS with remote workers using Celery"
   ]
  },
  {
   "cell_type": "code",
   "execution_count": 1,
   "id": "319638e9-527d-4719-ae21-ac7a17c00532",
   "metadata": {},
   "outputs": [],
   "source": [
    "from circuitree.parallel import ParameterTable\n",
    "from oscillation_parallel_celery import OscillationTreeCelery\n",
    "import pandas as pd\n",
    "from pathlib import Path\n",
    "\n",
    "param_sets_csv = Path(\"/home/pbhamidi/git/circuitree-paper/data/oscillation/param_sets_queue_10000.csv\")\n",
    "param_df = pd.read_csv(param_sets_csv, index_col=\"sample_num\")\n",
    "param_df.index.name = \"visit\"\n",
    "param_table = ParameterTable.from_dataframe(\n",
    "    param_df,\n",
    "    seed_col=\"visit\",\n",
    "    init_cols=[\"A_0\", \"B_0\", \"C_0\"],\n",
    "    param_cols=[\n",
    "        \"k_on\",\n",
    "        \"k_off_1\",\n",
    "        \"k_off_2\",\n",
    "        \"km_unbound\",\n",
    "        \"km_act\",\n",
    "        \"km_rep\",\n",
    "        \"km_act_rep\",\n",
    "        \"kp\",\n",
    "        \"gamma_m\",\n",
    "        \"gamma_p\",\n",
    "    ],\n",
    ")\n",
    "\n",
    "save_dir = Path(\n",
    "    \"/home/pbhamidi/git/circuitree-paper/data/oscillation/mcts/230823_celery\"\n",
    ")\n",
    "\n",
    "tree = OscillationTreeCelery(\n",
    "    root=\"*ABC::\",\n",
    "    components=[\"A\", \"B\", \"C\", \"D\", \"E\"],\n",
    "    interactions=[\"activates\", \"inhibits\"],\n",
    "    dt=20.0,  # seconds\n",
    "    # nt = 2000,\n",
    "    nt=200,\n",
    "    batch_size=40,\n",
    "    parameter_table=param_table,\n",
    "    save_dir=save_dir,\n",
    "    timeout=60,\n",
    ")"
   ]
  },
  {
   "cell_type": "code",
   "execution_count": 2,
   "id": "3f0f846c-8e7a-47a5-9f0f-a1ff8a2ab7e3",
   "metadata": {},
   "outputs": [
    {
     "ename": "TypeError",
     "evalue": "cannot unpack non-iterable int object",
     "output_type": "error",
     "traceback": [
      "\u001b[0;31m---------------------------------------------------------------------------\u001b[0m",
      "\u001b[0;31mTypeError\u001b[0m                                 Traceback (most recent call last)",
      "Cell \u001b[0;32mIn[2], line 1\u001b[0m\n\u001b[0;32m----> 1\u001b[0m tree\u001b[39m.\u001b[39;49msearch_mcts(n_steps\u001b[39m=\u001b[39;49m\u001b[39m5\u001b[39;49m)\n",
      "File \u001b[0;32m~/git/circuitree-paper/.venv/lib/python3.10/site-packages/circuitree/circuitree.py:243\u001b[0m, in \u001b[0;36mCircuiTree.search_mcts\u001b[0;34m(self, n_steps, root, metric_func, save_every, exploration_constant, accumulate, accumulate_post, progress_bar, **kwargs)\u001b[0m\n\u001b[1;32m    241\u001b[0m \u001b[39mif\u001b[39;00m metric_func \u001b[39mis\u001b[39;00m \u001b[39mNone\u001b[39;00m:\n\u001b[1;32m    242\u001b[0m     \u001b[39mfor\u001b[39;00m i \u001b[39min\u001b[39;00m iterator:\n\u001b[0;32m--> 243\u001b[0m         selection_path, reward, sim_node \u001b[39m=\u001b[39m \u001b[39mself\u001b[39;49m\u001b[39m.\u001b[39;49mtraverse(\n\u001b[1;32m    244\u001b[0m             root, accumulate\u001b[39m=\u001b[39;49maccumulate, \u001b[39m*\u001b[39;49m\u001b[39m*\u001b[39;49mkwargs\n\u001b[1;32m    245\u001b[0m         )\n\u001b[1;32m    247\u001b[0m \u001b[39melse\u001b[39;00m:\n\u001b[1;32m    248\u001b[0m     metrics \u001b[39m=\u001b[39m [metric_func(\u001b[39mself\u001b[39m\u001b[39m.\u001b[39mgraph, [], root, \u001b[39mNone\u001b[39;00m, \u001b[39m*\u001b[39m\u001b[39m*\u001b[39mkwargs)]\n",
      "File \u001b[0;32m~/git/circuitree-paper/.venv/lib/python3.10/site-packages/circuitree/circuitree.py:185\u001b[0m, in \u001b[0;36mCircuiTree.traverse\u001b[0;34m(self, root, accumulate, **selection_kw)\u001b[0m\n\u001b[1;32m    183\u001b[0m \u001b[39mif\u001b[39;00m \u001b[39mself\u001b[39m\u001b[39m.\u001b[39mis_terminal(node):\n\u001b[1;32m    184\u001b[0m     sim_node \u001b[39m=\u001b[39m node\n\u001b[0;32m--> 185\u001b[0m     reward \u001b[39m=\u001b[39m \u001b[39mself\u001b[39;49m\u001b[39m.\u001b[39;49mget_reward(node)\n\u001b[1;32m    187\u001b[0m \u001b[39melse\u001b[39;00m:\n\u001b[1;32m    188\u001b[0m     \u001b[39mself\u001b[39m\u001b[39m.\u001b[39mexpand(node)\n",
      "File \u001b[0;32m~/git/circuitree-paper/oscillation/oscillation_parallel.py:156\u001b[0m, in \u001b[0;36mOscillationTreeParallel.get_reward\u001b[0;34m(self, state, maxiter)\u001b[0m\n\u001b[1;32m    154\u001b[0m \u001b[39mif\u001b[39;00m n_to_simulate \u001b[39m>\u001b[39m \u001b[39m0\u001b[39m:\n\u001b[1;32m    155\u001b[0m     sim_visits \u001b[39m=\u001b[39m visit \u001b[39m+\u001b[39m n_to_read \u001b[39m+\u001b[39m np\u001b[39m.\u001b[39marange(n_to_simulate)\n\u001b[0;32m--> 156\u001b[0m     sim_rewards, sim_data \u001b[39m=\u001b[39m \u001b[39mself\u001b[39;49m\u001b[39m.\u001b[39;49msimulate_visits(state, sim_visits)\n\u001b[1;32m    157\u001b[0m     \u001b[39mself\u001b[39m\u001b[39m.\u001b[39msave_results(sim_data)\n\u001b[1;32m    158\u001b[0m     rewards\u001b[39m.\u001b[39mextend(sim_rewards)\n",
      "File \u001b[0;32m~/git/circuitree-paper/oscillation/oscillation_parallel_celery.py:119\u001b[0m, in \u001b[0;36mOscillationTreeCelery.simulate_visits\u001b[0;34m(self, state, visits)\u001b[0m\n\u001b[1;32m    118\u001b[0m \u001b[39mdef\u001b[39;00m \u001b[39msimulate_visits\u001b[39m(\u001b[39mself\u001b[39m, state, visits) \u001b[39m-\u001b[39m\u001b[39m>\u001b[39m \u001b[39mtuple\u001b[39m[\u001b[39mlist\u001b[39m[\u001b[39mfloat\u001b[39m], \u001b[39mdict\u001b[39m[\u001b[39mstr\u001b[39m, Any]]:\n\u001b[0;32m--> 119\u001b[0m     input_args \u001b[39m=\u001b[39m [\n\u001b[1;32m    120\u001b[0m         (seed, \u001b[39mlist\u001b[39m(inits), \u001b[39mlist\u001b[39m(params))\n\u001b[1;32m    121\u001b[0m         \u001b[39mfor\u001b[39;00m v \u001b[39min\u001b[39;00m visits\n\u001b[1;32m    122\u001b[0m         \u001b[39mfor\u001b[39;00m seed, inits, params \u001b[39min\u001b[39;00m \u001b[39mself\u001b[39m\u001b[39m.\u001b[39mparam_table[v]\n\u001b[1;32m    123\u001b[0m     ]\n\u001b[1;32m    124\u001b[0m     submit_task \u001b[39m=\u001b[39m partial(\n\u001b[1;32m    125\u001b[0m         _run_one_ssa\u001b[39m.\u001b[39mdelay,\n\u001b[1;32m    126\u001b[0m         state\u001b[39m=\u001b[39mstate,\n\u001b[0;32m   (...)\u001b[0m\n\u001b[1;32m    131\u001b[0m         save_dir\u001b[39m=\u001b[39m\u001b[39mself\u001b[39m\u001b[39m.\u001b[39msave_dir,\n\u001b[1;32m    132\u001b[0m     )\n\u001b[1;32m    133\u001b[0m     futures \u001b[39m=\u001b[39m [submit_task(\u001b[39m*\u001b[39margs) \u001b[39mfor\u001b[39;00m args \u001b[39min\u001b[39;00m input_args]\n",
      "File \u001b[0;32m~/git/circuitree-paper/oscillation/oscillation_parallel_celery.py:122\u001b[0m, in \u001b[0;36m<listcomp>\u001b[0;34m(.0)\u001b[0m\n\u001b[1;32m    118\u001b[0m \u001b[39mdef\u001b[39;00m \u001b[39msimulate_visits\u001b[39m(\u001b[39mself\u001b[39m, state, visits) \u001b[39m-\u001b[39m\u001b[39m>\u001b[39m \u001b[39mtuple\u001b[39m[\u001b[39mlist\u001b[39m[\u001b[39mfloat\u001b[39m], \u001b[39mdict\u001b[39m[\u001b[39mstr\u001b[39m, Any]]:\n\u001b[1;32m    119\u001b[0m     input_args \u001b[39m=\u001b[39m [\n\u001b[1;32m    120\u001b[0m         (seed, \u001b[39mlist\u001b[39m(inits), \u001b[39mlist\u001b[39m(params))\n\u001b[1;32m    121\u001b[0m         \u001b[39mfor\u001b[39;00m v \u001b[39min\u001b[39;00m visits\n\u001b[0;32m--> 122\u001b[0m         \u001b[39mfor\u001b[39;00m seed, inits, params \u001b[39min\u001b[39;00m \u001b[39mself\u001b[39m\u001b[39m.\u001b[39mparam_table[v]\n\u001b[1;32m    123\u001b[0m     ]\n\u001b[1;32m    124\u001b[0m     submit_task \u001b[39m=\u001b[39m partial(\n\u001b[1;32m    125\u001b[0m         _run_one_ssa\u001b[39m.\u001b[39mdelay,\n\u001b[1;32m    126\u001b[0m         state\u001b[39m=\u001b[39mstate,\n\u001b[0;32m   (...)\u001b[0m\n\u001b[1;32m    131\u001b[0m         save_dir\u001b[39m=\u001b[39m\u001b[39mself\u001b[39m\u001b[39m.\u001b[39msave_dir,\n\u001b[1;32m    132\u001b[0m     )\n\u001b[1;32m    133\u001b[0m     futures \u001b[39m=\u001b[39m [submit_task(\u001b[39m*\u001b[39margs) \u001b[39mfor\u001b[39;00m args \u001b[39min\u001b[39;00m input_args]\n",
      "\u001b[0;31mTypeError\u001b[0m: cannot unpack non-iterable int object"
     ]
    }
   ],
   "source": [
    "tree.search_mcts(n_steps=5)"
   ]
  },
  {
   "cell_type": "code",
   "execution_count": null,
   "id": "dc3eabff-131a-40a4-bcae-805355a812e3",
   "metadata": {},
   "outputs": [],
   "source": []
  }
 ],
 "metadata": {
  "kernelspec": {
   "display_name": "Python 3 (ipykernel)",
   "language": "python",
   "name": "python3"
  },
  "language_info": {
   "codemirror_mode": {
    "name": "ipython",
    "version": 3
   },
   "file_extension": ".py",
   "mimetype": "text/x-python",
   "name": "python",
   "nbconvert_exporter": "python",
   "pygments_lexer": "ipython3",
   "version": "3.10.8"
  }
 },
 "nbformat": 4,
 "nbformat_minor": 5
}
